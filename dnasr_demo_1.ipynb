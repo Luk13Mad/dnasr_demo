{
 "cells": [
  {
   "cell_type": "markdown",
   "id": "involved-representative",
   "metadata": {},
   "source": [
    "# Predicting location of Spike protein in SARS-CoV2 DNA  \n",
    "\n",
    "Some fooling around trying to predict the spike protein location inside SARS-CoV2 DNA. Raw DNA will be transformed into Entropy values via [dnasr](https://github.com/Luk13Mad/dnasr), annotated with the spike protein location and then piped into a TF model."
   ]
  },
  {
   "cell_type": "code",
   "execution_count": 105,
   "id": "normal-conservative",
   "metadata": {},
   "outputs": [
    {
     "name": "stdout",
     "output_type": "stream",
     "text": [
      "all packages loaded\n"
     ]
    }
   ],
   "source": [
    "import tensorflow as tf\n",
    "from tensorflow import keras\n",
    "from tensorflow.keras import layers\n",
    "\n",
    "import random\n",
    "import pandas as pd\n",
    "import os\n",
    "import numpy as np\n",
    "import matplotlib.pyplot as plt\n",
    "\n",
    "from Bio import SeqIO\n",
    "from Bio.SeqFeature import SeqFeature, FeatureLocation\n",
    "print(\"all packages loaded\")"
   ]
  },
  {
   "cell_type": "markdown",
   "id": "three-genius",
   "metadata": {},
   "source": [
    "# Preparing sequences  \n",
    "If you want to skip the data polishing and annotating jump straight to \"Prepare data for TF\" EDIT:File was to large for upload. "
   ]
  },
  {
   "cell_type": "code",
   "execution_count": 81,
   "id": "physical-newsletter",
   "metadata": {},
   "outputs": [
    {
     "name": "stdout",
     "output_type": "stream",
     "text": [
      "Number of SARS-Cov2 sequences in file: 2280\n",
      "Length of DNA coding for spike protein: 3822\n"
     ]
    }
   ],
   "source": [
    "fasta_file=os.path.join(os.getcwd(),\"data\",\"sequences.fasta\") #file with DNA sequences\n",
    "myrecords=[seq_record for seq_record in SeqIO.parse(fasta_file, \"fasta\")]\n",
    "myrecords=list(filter(lambda x: 26000 < len(x) < 32000, myrecords)) #filter for full genomes\n",
    "print(f\"Number of SARS-Cov2 sequences in file: {len(myrecords)}\")\n",
    "SPIKE_PROTEIN=[seq_record for seq_record in SeqIO.parse(os.path.join(os.getcwd(),\"data\",\"spike_protein.fasta\"), \"fasta\")][0]\n",
    "#File with spike protein which will be our target we try to predict\n",
    "print(f\"Length of DNA coding for spike protein: {len(SPIKE_PROTEIN)}\")"
   ]
  },
  {
   "cell_type": "code",
   "execution_count": 82,
   "id": "sacred-colon",
   "metadata": {},
   "outputs": [
    {
     "name": "stdout",
     "output_type": "stream",
     "text": [
      "Number of SARS-Cov2 sequences containing spike protein with no mismatches: 160\n"
     ]
    }
   ],
   "source": [
    "myrecords=list(filter(lambda x: x.seq.find(SPIKE_PROTEIN.seq)!= -1,myrecords)) \n",
    "#filter for records containing the spike protein with no mismatches\n",
    "print(f\"Number of SARS-Cov2 sequences containing spike protein with no mismatches: {len(myrecords)}\")"
   ]
  },
  {
   "cell_type": "code",
   "execution_count": 83,
   "id": "sorted-optimization",
   "metadata": {},
   "outputs": [],
   "source": [
    "for rec in myrecords: #add SeqFeature with SPIKE_PROTEIN location to each record, we will try to predict the position fo the spike protein from the entropy values\n",
    "    start=rec.seq.find(SPIKE_PROTEIN.seq)\n",
    "    end=start+len(SPIKE_PROTEIN)\n",
    "    rec.features.append(SeqFeature(location=FeatureLocation(start=start,end=end),type=\"SPIKE_PROTEIN\"))"
   ]
  },
  {
   "cell_type": "code",
   "execution_count": 13,
   "id": "inappropriate-wright",
   "metadata": {
    "scrolled": false
   },
   "outputs": [
    {
     "data": {
      "text/plain": [
       "50"
      ]
     },
     "execution_count": 13,
     "metadata": {},
     "output_type": "execute_result"
    }
   ],
   "source": [
    "SeqIO.write(random.sample(myrecords,50),os.path.join(os.getcwd(),\"data\",\"processed_seq.fasta\"), \"fasta\")\n",
    "#write 50 records to file\n",
    "#only 50 so i can still load output from dnasr into RAM"
   ]
  },
  {
   "cell_type": "markdown",
   "id": "persistent-evening",
   "metadata": {},
   "source": [
    "# Calling DNASR \n",
    "\n",
    "Now call dnasr. Instructions how to install here https://github.com/Luk13Mad/dnasr .\n",
    "Switch cell below to \"CODE\" and run it see how command looks like."
   ]
  },
  {
   "cell_type": "markdown",
   "id": "worst-designation",
   "metadata": {},
   "source": [
    "inp=os.path.join(os.getcwd(),\"data\",\"processed_seq.fasta\")  \n",
    "outp=os.path.join(os.getcwd(),\"data\")  \n",
    "print(f\"dnasr generate --db false -i {inp}  -o {outp} --ee true\")  "
   ]
  },
  {
   "cell_type": "markdown",
   "id": "applied-evolution",
   "metadata": {},
   "source": [
    "# Loading and annotating entropy data"
   ]
  },
  {
   "cell_type": "code",
   "execution_count": 2,
   "id": "photographic-powder",
   "metadata": {},
   "outputs": [],
   "source": [
    "mydf=pd.read_csv(os.path.join(os.getcwd(),\"data\",\"dnasr_early_exit.txt\"),sep=\"\\t\",header=None,names=[\"ID\",\"window\",\"kmer\",\"E\"])\n",
    "#load output form dnasr"
   ]
  },
  {
   "cell_type": "code",
   "execution_count": 7,
   "id": "sacred-brown",
   "metadata": {},
   "outputs": [],
   "source": [
    "mydf.sort_values(by=[\"ID\",\"window\",\"kmer\"],inplace=True)\n",
    "mydf.reset_index(drop=True,inplace=True)\n",
    "mydf.loc[mydf.E.isna(),\"E\"]=0"
   ]
  },
  {
   "cell_type": "code",
   "execution_count": 11,
   "id": "adjusted-diesel",
   "metadata": {},
   "outputs": [
    {
     "data": {
      "text/html": [
       "<div>\n",
       "<style scoped>\n",
       "    .dataframe tbody tr th:only-of-type {\n",
       "        vertical-align: middle;\n",
       "    }\n",
       "\n",
       "    .dataframe tbody tr th {\n",
       "        vertical-align: top;\n",
       "    }\n",
       "\n",
       "    .dataframe thead th {\n",
       "        text-align: right;\n",
       "    }\n",
       "</style>\n",
       "<table border=\"1\" class=\"dataframe\">\n",
       "  <thead>\n",
       "    <tr style=\"text-align: right;\">\n",
       "      <th></th>\n",
       "      <th>ID</th>\n",
       "      <th>window</th>\n",
       "      <th>kmer</th>\n",
       "      <th>E</th>\n",
       "      <th>isSpike</th>\n",
       "    </tr>\n",
       "  </thead>\n",
       "  <tbody>\n",
       "    <tr>\n",
       "      <th>94838586</th>\n",
       "      <td>MW375727.1</td>\n",
       "      <td>29655</td>\n",
       "      <td>TGT</td>\n",
       "      <td>0.901785</td>\n",
       "      <td>0</td>\n",
       "    </tr>\n",
       "    <tr>\n",
       "      <th>94838587</th>\n",
       "      <td>MW375727.1</td>\n",
       "      <td>29655</td>\n",
       "      <td>TTA</td>\n",
       "      <td>0.997746</td>\n",
       "      <td>0</td>\n",
       "    </tr>\n",
       "    <tr>\n",
       "      <th>94838588</th>\n",
       "      <td>MW375727.1</td>\n",
       "      <td>29655</td>\n",
       "      <td>TTC</td>\n",
       "      <td>1.000000</td>\n",
       "      <td>0</td>\n",
       "    </tr>\n",
       "    <tr>\n",
       "      <th>94838589</th>\n",
       "      <td>MW375727.1</td>\n",
       "      <td>29655</td>\n",
       "      <td>TTG</td>\n",
       "      <td>1.000000</td>\n",
       "      <td>0</td>\n",
       "    </tr>\n",
       "    <tr>\n",
       "      <th>94838590</th>\n",
       "      <td>MW375727.1</td>\n",
       "      <td>29655</td>\n",
       "      <td>TTT</td>\n",
       "      <td>0.000000</td>\n",
       "      <td>0</td>\n",
       "    </tr>\n",
       "  </tbody>\n",
       "</table>\n",
       "</div>"
      ],
      "text/plain": [
       "                  ID  window kmer         E  isSpike\n",
       "94838586  MW375727.1   29655  TGT  0.901785        0\n",
       "94838587  MW375727.1   29655  TTA  0.997746        0\n",
       "94838588  MW375727.1   29655  TTC  1.000000        0\n",
       "94838589  MW375727.1   29655  TTG  1.000000        0\n",
       "94838590  MW375727.1   29655  TTT  0.000000        0"
      ]
     },
     "execution_count": 11,
     "metadata": {},
     "output_type": "execute_result"
    }
   ],
   "source": [
    "mydf[\"isSpike\"]=0 #add column indicating whether position is inside spike\n",
    "mydf.head()"
   ]
  },
  {
   "cell_type": "code",
   "execution_count": 16,
   "id": "brazilian-apple",
   "metadata": {},
   "outputs": [
    {
     "name": "stdout",
     "output_type": "stream",
     "text": [
      "done\n"
     ]
    }
   ],
   "source": [
    "for rec in myrecords:\n",
    "    if mydf.ID.isin([str(rec.id)]).any():\n",
    "        mask1=mydf.loc[:,\"window\"].isin(range(int(rec.features[0].location.start),int(rec.features[0].location.end)))\n",
    "        mask2=mydf[\"ID\"]==rec.id\n",
    "        mydf.loc[pd.concat([mask1,mask2],axis=1).all(axis=1),\"isSpike\"]=1 #change \"isSpike\" column to 1 if spike present\n",
    "\n",
    "print(\"done\")"
   ]
  },
  {
   "cell_type": "code",
   "execution_count": 17,
   "id": "toxic-cable",
   "metadata": {},
   "outputs": [],
   "source": [
    "#mydf.to_csv(os.path.join(os.getcwd(),\"data\",\"finished_data.csv.gz\"),sep=\"\\t\",compression=\"gzip\",index=False)"
   ]
  },
  {
   "cell_type": "markdown",
   "id": "numerical-rebecca",
   "metadata": {},
   "source": [
    "# Prepare data for TF"
   ]
  },
  {
   "cell_type": "code",
   "execution_count": 2,
   "id": "described-saudi",
   "metadata": {},
   "outputs": [],
   "source": [
    "mydf=pd.read_csv(os.path.join(os.getcwd(),\"data\",\"finished_data.csv.gz\"),sep=\"\\t\",compression=\"gzip\")"
   ]
  },
  {
   "cell_type": "code",
   "execution_count": 3,
   "id": "minute-complement",
   "metadata": {},
   "outputs": [],
   "source": [
    "shapes=[] #get max length for later padding\n",
    "for ID,inner_df in mydf.groupby(by=[\"ID\"]):\n",
    "    shapes.append(inner_df.shape)"
   ]
  },
  {
   "cell_type": "code",
   "execution_count": 4,
   "id": "adolescent-liechtenstein",
   "metadata": {
    "scrolled": false
   },
   "outputs": [],
   "source": [
    "max_len=max([x[0] for x in shapes])\n",
    "\n",
    "def make_dict(): #make dict to feed into Dataset.from_tensor_slices\n",
    "    mydict={\"ID\":[],\"E\":[],\"isSpike\":[]}\n",
    "    for ID,inner_df in mydf.groupby(by=[\"ID\"]):\n",
    "        mydict[\"ID\"].append(ID)\n",
    "        #padding with 0\n",
    "        mydict[\"E\"].append( np.pad(np.array(inner_df.E),(0,max_len-inner_df.shape[0]), 'constant', constant_values=0).reshape((-1,64)) )\n",
    "        mydict[\"isSpike\"].append( np.array(inner_df.groupby(\"window\").mean().isSpike) ) #each window gets 1 spike value\n",
    "    _max_window=max([len(x) for x in mydict[\"isSpike\"]])\n",
    "    for idx,i in enumerate(mydict[\"isSpike\"]):\n",
    "        len_before=len(i)\n",
    "        mydict[\"isSpike\"][idx]=np.pad(i,(0,_max_window-len_before), 'constant', constant_values=0)\n",
    "    return mydict,_max_window\n",
    "mydict,max_window=make_dict()"
   ]
  },
  {
   "cell_type": "code",
   "execution_count": 5,
   "id": "overhead-belle",
   "metadata": {},
   "outputs": [],
   "source": [
    "tf_dataset=tf.data.Dataset.from_tensor_slices(mydict)"
   ]
  },
  {
   "cell_type": "code",
   "execution_count": 6,
   "id": "phantom-witch",
   "metadata": {},
   "outputs": [],
   "source": [
    "train_size = int(0.8 * tf_dataset.cardinality().numpy()) #split dataset into train and test\n",
    "test_size = int(0.2 * tf_dataset.cardinality().numpy())\n",
    "\n",
    "tf_dataset = tf_dataset.shuffle(60)\n",
    "train_dataset = tf_dataset.take(train_size)\n",
    "test_dataset = tf_dataset.skip(train_size)"
   ]
  },
  {
   "cell_type": "markdown",
   "id": "active-perspective",
   "metadata": {},
   "source": [
    "# Set up Model"
   ]
  },
  {
   "cell_type": "code",
   "execution_count": 7,
   "id": "corresponding-edmonton",
   "metadata": {},
   "outputs": [],
   "source": [
    "train_labels=train_dataset.map(lambda d : d[\"ID\"])\n",
    "train_feature=train_dataset.map(lambda d : d[\"E\"])\n",
    "train_target=train_dataset.map(lambda d : d[\"isSpike\"])\n",
    "\n",
    "test_labels=test_dataset.map(lambda d : d[\"ID\"])\n",
    "test_feature=test_dataset.map(lambda d : d[\"E\"])\n",
    "test_target=test_dataset.map(lambda d : d[\"isSpike\"])"
   ]
  },
  {
   "cell_type": "code",
   "execution_count": 27,
   "id": "spatial-bubble",
   "metadata": {},
   "outputs": [
    {
     "name": "stdout",
     "output_type": "stream",
     "text": [
      "Model: \"spike_predictor\"\n",
      "_________________________________________________________________\n",
      "Layer (type)                 Output Shape              Param #   \n",
      "=================================================================\n",
      "input_2 (InputLayer)         [(None, 29753, 64)]       0         \n",
      "_________________________________________________________________\n",
      "flatten_1 (Flatten)          (None, 1904192)           0         \n",
      "_________________________________________________________________\n",
      "dense_3 (Dense)              (None, 128)               243736704 \n",
      "_________________________________________________________________\n",
      "dense_4 (Dense)              (None, 64)                8256      \n",
      "_________________________________________________________________\n",
      "dense_5 (Dense)              (None, 29753)             1933945   \n",
      "=================================================================\n",
      "Total params: 245,678,905\n",
      "Trainable params: 245,678,905\n",
      "Non-trainable params: 0\n",
      "_________________________________________________________________\n"
     ]
    }
   ],
   "source": [
    "inputs=keras.Input(shape=(int(max_len/64),64))\n",
    "x=layers.Flatten()(inputs)\n",
    "x=layers.Dense(128, activation=\"relu\")(x)\n",
    "x=layers.Dense(64, activation=\"relu\")(x)\n",
    "outputs=layers.Dense(max_window,activation=\"sigmoid\")(x)\n",
    "model = keras.Model(inputs=inputs, outputs=outputs, name=\"spike_predictor\")\n",
    "model.summary()"
   ]
  },
  {
   "cell_type": "code",
   "execution_count": 28,
   "id": "stuffed-dover",
   "metadata": {},
   "outputs": [
    {
     "name": "stdout",
     "output_type": "stream",
     "text": [
      "Epoch 1/3\n",
      "4/4 [==============================] - 19s 2s/step - loss: 3.2114 - accuracy: 0.0000e+00\n",
      "Epoch 2/3\n",
      "4/4 [==============================] - 10s 1s/step - loss: 0.6399 - accuracy: 0.0000e+00\n",
      "Epoch 3/3\n",
      "4/4 [==============================] - 9s 1s/step - loss: 0.0151 - accuracy: 0.0000e+00\n"
     ]
    }
   ],
   "source": [
    "model.compile(\n",
    "    loss=keras.losses.BinaryCrossentropy(from_logits=True),\n",
    "    optimizer=keras.optimizers.Adam(),\n",
    "    metrics=[\"accuracy\"],\n",
    ")\n",
    "\n",
    "history = model.fit(tf.data.Dataset.zip((train_feature,train_target)).batch(10),epochs=3)\n"
   ]
  },
  {
   "cell_type": "code",
   "execution_count": 29,
   "id": "inside-mathematics",
   "metadata": {},
   "outputs": [],
   "source": [
    "predictions=model.predict(test_feature.batch(1))\n",
    "#np.save(os.path.join(os.getcwd(),\"data\",\"predictions.npy\"),predictions)"
   ]
  },
  {
   "cell_type": "markdown",
   "id": "spread-pulse",
   "metadata": {},
   "source": [
    "# Let's plot our predictions"
   ]
  },
  {
   "cell_type": "code",
   "execution_count": 113,
   "id": "equipped-tobago",
   "metadata": {
    "scrolled": false
   },
   "outputs": [
    {
     "data": {
      "image/png": "[encoded data removed]",
      "text/plain": [
       "<Figure size 1440x1080 with 10 Axes>"
      ]
     },
     "metadata": {},
     "output_type": "display_data"
    }
   ],
   "source": [
    "#predictions=np.load(os.path.join(os.getcwd(),\"data\",\"predictions.npy\"))\n",
    "average_start=np.mean([int(rec.features[0].location.start) for rec in myrecords])\n",
    "average_end=np.mean([int(rec.features[0].location.end) for rec in myrecords])\n",
    "fig, axs = plt.subplots(10,sharex=True,figsize=(20,15))\n",
    "for i in range(10):\n",
    "    axs[i].plot(np.arange(len(predictions[i])),predictions[i])\n",
    "    axs[i].axvline(average_start,color=\"red\")\n",
    "    axs[i].axvline(average_end,color=\"red\")"
   ]
  },
  {
   "cell_type": "markdown",
   "id": "returning-spring",
   "metadata": {},
   "source": [
    "Each plot is one of our test cases. The red lines in each plot are average start and end points of the Spike.   \n",
    "\n",
    "There is some noise but overall the predictions are pretty good.  \n",
    "\n",
    "Obviously the model isn't specifically tailored for this task nor is the dataset large. I just wanted to practice with Tensorflow and have some fun with the information entropy."
   ]
  }
 ],
 "metadata": {
  "kernelspec": {
   "display_name": "dnasr_demo",
   "language": "python",
   "name": "dnasr_demo"
  },
  "language_info": {
   "codemirror_mode": {
    "name": "ipython",
    "version": 3
   },
   "file_extension": ".py",
   "mimetype": "text/x-python",
   "name": "python",
   "nbconvert_exporter": "python",
   "pygments_lexer": "ipython3",
   "version": "3.8.6"
  }
 },
 "nbformat": 4,
 "nbformat_minor": 5
}
