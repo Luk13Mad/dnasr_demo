{
 "cells": [
  {
   "cell_type": "markdown",
   "id": "involved-representative",
   "metadata": {},
   "source": [
    "# Predicting location of Spike protein in SARS-CoV2 DNA  \n",
    "\n",
    "Some fooling around trying to predict the spike protein location inside SARS-CoV2 DNA. Raw DNA will be transformed into Entropy values via [dnasr](https://github.com/Luk13Mad/dnasr), annotated with the spike protein location and then piped into a TF model."
   ]
  },
  {
   "cell_type": "code",
   "execution_count": 2,
   "id": "normal-conservative",
   "metadata": {},
   "outputs": [
    {
     "name": "stdout",
     "output_type": "stream",
     "text": [
      "all packages loaded\n"
     ]
    }
   ],
   "source": [
    "import tensorflow as tf\n",
    "from tensorflow import keras\n",
    "from tensorflow.keras import layers\n",
    "\n",
    "import random\n",
    "import pandas as pd\n",
    "import os\n",
    "import numpy as np\n",
    "import matplotlib.pyplot as plt\n",
    "\n",
    "from Bio import SeqIO\n",
    "from Bio.SeqFeature import SeqFeature, FeatureLocation\n",
    "print(\"all packages loaded\")"
   ]
  },
  {
   "cell_type": "markdown",
   "id": "three-genius",
   "metadata": {},
   "source": [
    "# Preparing sequences  \n",
    "If you want to skip the data polishing and annotating jump straight to \"Prepare data for TF\" EDIT:File was to large for upload. "
   ]
  },
  {
   "cell_type": "code",
   "execution_count": 16,
   "id": "physical-newsletter",
   "metadata": {},
   "outputs": [
    {
     "name": "stdout",
     "output_type": "stream",
     "text": [
      "Number of SARS-Cov2 sequences in file: 2280\n",
      "Length of DNA coding for spike protein: 3822\n"
     ]
    }
   ],
   "source": [
    "fasta_file=os.path.join(os.getcwd(),\"data\",\"sequences.fasta\") #file with DNA sequences\n",
    "myrecords=[seq_record for seq_record in SeqIO.parse(fasta_file, \"fasta\")]\n",
    "myrecords=list(filter(lambda x: 26000 < len(x) < 32000, myrecords)) #filter for full genomes\n",
    "print(f\"Number of SARS-Cov2 sequences in file: {len(myrecords)}\")\n",
    "SPIKE_PROTEIN=[seq_record for seq_record in SeqIO.parse(os.path.join(os.getcwd(),\"data\",\"spike_protein.fasta\"), \"fasta\")][0]\n",
    "#File with spike protein which will be our target we try to predict\n",
    "print(f\"Length of DNA coding for spike protein: {len(SPIKE_PROTEIN)}\")"
   ]
  },
  {
   "cell_type": "code",
   "execution_count": 17,
   "id": "sacred-colon",
   "metadata": {},
   "outputs": [
    {
     "name": "stdout",
     "output_type": "stream",
     "text": [
      "Number of SARS-Cov2 sequences containing spike protein with no mismatches: 160\n"
     ]
    }
   ],
   "source": [
    "myrecords=list(filter(lambda x: x.seq.find(SPIKE_PROTEIN.seq)!= -1,myrecords)) \n",
    "#filter for records containing the spike protein with no mismatches\n",
    "print(f\"Number of SARS-Cov2 sequences containing spike protein with no mismatches: {len(myrecords)}\")"
   ]
  },
  {
   "cell_type": "code",
   "execution_count": 18,
   "id": "sorted-optimization",
   "metadata": {},
   "outputs": [],
   "source": [
    "for rec in myrecords: #add SeqFeature with SPIKE_PROTEIN location to each record, we will try to predict the position fo the spike protein from the entropy values\n",
    "    start=rec.seq.find(SPIKE_PROTEIN.seq)\n",
    "    end=start+len(SPIKE_PROTEIN)\n",
    "    rec.features.append(SeqFeature(location=FeatureLocation(start=start,end=end),type=\"SPIKE_PROTEIN\"))"
   ]
  },
  {
   "cell_type": "code",
   "execution_count": 13,
   "id": "inappropriate-wright",
   "metadata": {
    "scrolled": false
   },
   "outputs": [
    {
     "data": {
      "text/plain": [
       "50"
      ]
     },
     "execution_count": 13,
     "metadata": {},
     "output_type": "execute_result"
    }
   ],
   "source": [
    "SeqIO.write(random.sample(myrecords,50),os.path.join(os.getcwd(),\"data\",\"processed_seq.fasta\"), \"fasta\")\n",
    "#write 50 records to file\n",
    "#only 50 so i can still load output from dnasr into RAM"
   ]
  },
  {
   "cell_type": "markdown",
   "id": "persistent-evening",
   "metadata": {},
   "source": [
    "# Calling DNASR \n",
    "\n",
    "Now call dnasr. Instructions how to install here https://github.com/Luk13Mad/dnasr .\n",
    "Switch cell below to \"CODE\" and run it see how command looks like."
   ]
  },
  {
   "cell_type": "markdown",
   "id": "worst-designation",
   "metadata": {},
   "source": [
    "inp=os.path.join(os.getcwd(),\"data\",\"processed_seq.fasta\")  \n",
    "outp=os.path.join(os.getcwd(),\"data\")  \n",
    "print(f\"dnasr generate --db false -i {inp}  -o {outp} --ee true\")  "
   ]
  },
  {
   "cell_type": "markdown",
   "id": "applied-evolution",
   "metadata": {},
   "source": [
    "# Loading and annotating entropy data"
   ]
  },
  {
   "cell_type": "code",
   "execution_count": 2,
   "id": "photographic-powder",
   "metadata": {},
   "outputs": [],
   "source": [
    "mydf=pd.read_csv(os.path.join(os.getcwd(),\"data\",\"dnasr_early_exit.txt\"),sep=\"\\t\",header=None,names=[\"ID\",\"window\",\"kmer\",\"E\"])\n",
    "#load output form dnasr"
   ]
  },
  {
   "cell_type": "code",
   "execution_count": 7,
   "id": "sacred-brown",
   "metadata": {},
   "outputs": [],
   "source": [
    "mydf.sort_values(by=[\"ID\",\"window\",\"kmer\"],inplace=True)\n",
    "mydf.reset_index(drop=True,inplace=True)\n",
    "mydf.loc[mydf.E.isna(),\"E\"]=0"
   ]
  },
  {
   "cell_type": "code",
   "execution_count": 11,
   "id": "adjusted-diesel",
   "metadata": {},
   "outputs": [
    {
     "data": {
      "text/html": [
       "<div>\n",
       "<style scoped>\n",
       "    .dataframe tbody tr th:only-of-type {\n",
       "        vertical-align: middle;\n",
       "    }\n",
       "\n",
       "    .dataframe tbody tr th {\n",
       "        vertical-align: top;\n",
       "    }\n",
       "\n",
       "    .dataframe thead th {\n",
       "        text-align: right;\n",
       "    }\n",
       "</style>\n",
       "<table border=\"1\" class=\"dataframe\">\n",
       "  <thead>\n",
       "    <tr style=\"text-align: right;\">\n",
       "      <th></th>\n",
       "      <th>ID</th>\n",
       "      <th>window</th>\n",
       "      <th>kmer</th>\n",
       "      <th>E</th>\n",
       "      <th>isSpike</th>\n",
       "    </tr>\n",
       "  </thead>\n",
       "  <tbody>\n",
       "    <tr>\n",
       "      <th>94838586</th>\n",
       "      <td>MW375727.1</td>\n",
       "      <td>29655</td>\n",
       "      <td>TGT</td>\n",
       "      <td>0.901785</td>\n",
       "      <td>0</td>\n",
       "    </tr>\n",
       "    <tr>\n",
       "      <th>94838587</th>\n",
       "      <td>MW375727.1</td>\n",
       "      <td>29655</td>\n",
       "      <td>TTA</td>\n",
       "      <td>0.997746</td>\n",
       "      <td>0</td>\n",
       "    </tr>\n",
       "    <tr>\n",
       "      <th>94838588</th>\n",
       "      <td>MW375727.1</td>\n",
       "      <td>29655</td>\n",
       "      <td>TTC</td>\n",
       "      <td>1.000000</td>\n",
       "      <td>0</td>\n",
       "    </tr>\n",
       "    <tr>\n",
       "      <th>94838589</th>\n",
       "      <td>MW375727.1</td>\n",
       "      <td>29655</td>\n",
       "      <td>TTG</td>\n",
       "      <td>1.000000</td>\n",
       "      <td>0</td>\n",
       "    </tr>\n",
       "    <tr>\n",
       "      <th>94838590</th>\n",
       "      <td>MW375727.1</td>\n",
       "      <td>29655</td>\n",
       "      <td>TTT</td>\n",
       "      <td>0.000000</td>\n",
       "      <td>0</td>\n",
       "    </tr>\n",
       "  </tbody>\n",
       "</table>\n",
       "</div>"
      ],
      "text/plain": [
       "                  ID  window kmer         E  isSpike\n",
       "94838586  MW375727.1   29655  TGT  0.901785        0\n",
       "94838587  MW375727.1   29655  TTA  0.997746        0\n",
       "94838588  MW375727.1   29655  TTC  1.000000        0\n",
       "94838589  MW375727.1   29655  TTG  1.000000        0\n",
       "94838590  MW375727.1   29655  TTT  0.000000        0"
      ]
     },
     "execution_count": 11,
     "metadata": {},
     "output_type": "execute_result"
    }
   ],
   "source": [
    "mydf[\"isSpike\"]=0 #add column indicating whether position is inside spike\n",
    "mydf.head()"
   ]
  },
  {
   "cell_type": "code",
   "execution_count": 16,
   "id": "brazilian-apple",
   "metadata": {},
   "outputs": [
    {
     "name": "stdout",
     "output_type": "stream",
     "text": [
      "done\n"
     ]
    }
   ],
   "source": [
    "for rec in myrecords:\n",
    "    if mydf.ID.isin([str(rec.id)]).any():\n",
    "        mask1=mydf.loc[:,\"window\"].isin(range(int(rec.features[0].location.start),int(rec.features[0].location.end)))\n",
    "        mask2=mydf[\"ID\"]==rec.id\n",
    "        mydf.loc[pd.concat([mask1,mask2],axis=1).all(axis=1),\"isSpike\"]=1 #change \"isSpike\" column to 1 if spike present\n",
    "\n",
    "print(\"done\")"
   ]
  },
  {
   "cell_type": "code",
   "execution_count": 17,
   "id": "toxic-cable",
   "metadata": {},
   "outputs": [],
   "source": [
    "#mydf.to_csv(os.path.join(os.getcwd(),\"data\",\"finished_data.csv.gz\"),sep=\"\\t\",compression=\"gzip\",index=False)"
   ]
  },
  {
   "cell_type": "markdown",
   "id": "numerical-rebecca",
   "metadata": {},
   "source": [
    "# Prepare data for TF"
   ]
  },
  {
   "cell_type": "code",
   "execution_count": 39,
   "id": "described-saudi",
   "metadata": {},
   "outputs": [],
   "source": [
    "mydf=pd.read_csv(os.path.join(os.getcwd(),\"data\",\"finished_data.csv.gz\"),sep=\"\\t\",compression=\"gzip\")"
   ]
  },
  {
   "cell_type": "code",
   "execution_count": 41,
   "id": "minute-complement",
   "metadata": {},
   "outputs": [],
   "source": [
    "shapes=[] #get max length for later padding\n",
    "for ID,inner_df in mydf.groupby(by=[\"ID\"]):\n",
    "    shapes.append(inner_df.shape)"
   ]
  },
  {
   "cell_type": "code",
   "execution_count": 55,
   "id": "historic-nickel",
   "metadata": {},
   "outputs": [],
   "source": [
    "max_len=max([x[0] for x in shapes])\n",
    "\n",
    "def make_dict2(): #make dict to feed into Dataset.from_tensor_slices\n",
    "    mydict={\"ID\":[],\"E\":[],\"isSpike\":[]}\n",
    "    for ID,inner_df in mydf.groupby(by=[\"ID\"]):\n",
    "        mydict[\"ID\"].append(ID)\n",
    "        #padding with 0\n",
    "        mydict[\"E\"].append( np.pad(np.array(inner_df.E),(0,max_len-inner_df.shape[0]), 'constant', constant_values=0).reshape((-1,64)) )\n",
    "        mydict[\"isSpike\"].append( np.array(inner_df.groupby(\"window\").mean().isSpike) ) #each window gets 1 spike value\n",
    "    _max_window=max([len(x) for x in mydict[\"isSpike\"]])\n",
    "    for idx,i in enumerate(mydict[\"isSpike\"]):\n",
    "        len_before=len(i)\n",
    "        mydict[\"isSpike\"][idx]=np.pad(i,(0,_max_window-len_before), 'constant', constant_values=0)\n",
    "    return mydict,_max_window\n",
    "mydict2,max_window=make_dict2()"
   ]
  },
  {
   "cell_type": "code",
   "execution_count": 56,
   "id": "educational-interpretation",
   "metadata": {},
   "outputs": [],
   "source": [
    "tf_dataset2=tf.data.Dataset.from_tensor_slices(mydict2)"
   ]
  },
  {
   "cell_type": "code",
   "execution_count": 57,
   "id": "entertaining-genome",
   "metadata": {},
   "outputs": [],
   "source": [
    "train_size2 = int(0.8 * tf_dataset2.cardinality().numpy()) #split dataset into train and test\n",
    "test_size2 = int(0.2 * tf_dataset2.cardinality().numpy())\n",
    "\n",
    "tf_dataset2 = tf_dataset2.shuffle(tf_dataset2.cardinality().numpy()*1,1)\n",
    "train_dataset2 = tf_dataset2.take(train_size2)\n",
    "test_dataset2 = tf_dataset2.skip(train_size2)"
   ]
  },
  {
   "cell_type": "code",
   "execution_count": 5,
   "id": "declared-transaction",
   "metadata": {},
   "outputs": [],
   "source": [
    "max_len=max([x[0] for x in shapes])\n",
    "\n",
    "def make_dict1(): #make dict to feed into Dataset.from_tensor_slices\n",
    "    mydict={\"ID\":[],\"E\":[],\"isSpike\":[]}\n",
    "    for ID,inner_df in mydf.groupby(by=[\"ID\"]):\n",
    "        for w,x in inner_df.groupby(\"window\"):\n",
    "            mydict[\"ID\"].append(ID)\n",
    "            mydict[\"E\"].append( np.pad(np.array(x.E),(0,64-len(np.array(x.E))), 'constant', constant_values=(0,0)))\n",
    "            mydict[\"isSpike\"].append( np.mean(np.array(x.isSpike)) ) #each window gets 1 spike value\n",
    "    return mydict\n",
    "mydict1=make_dict1()"
   ]
  },
  {
   "cell_type": "code",
   "execution_count": 6,
   "id": "overhead-belle",
   "metadata": {},
   "outputs": [],
   "source": [
    "tf_dataset1=tf.data.Dataset.from_tensor_slices(mydict1)"
   ]
  },
  {
   "cell_type": "code",
   "execution_count": 7,
   "id": "phantom-witch",
   "metadata": {},
   "outputs": [],
   "source": [
    "train_size1 = int(0.8 * tf_dataset1.cardinality().numpy()) #split dataset into train and test\n",
    "test_size1 = int(0.2 * tf_dataset1.cardinality().numpy())\n",
    "\n",
    "tf_dataset1 = tf_dataset1.shuffle(tf_dataset1.cardinality().numpy()*1,1)\n",
    "train_dataset1 = tf_dataset1.take(train_size1)\n",
    "test_dataset1 = tf_dataset1.skip(train_size1)"
   ]
  },
  {
   "cell_type": "markdown",
   "id": "active-perspective",
   "metadata": {},
   "source": [
    "# Set up Model 1 "
   ]
  },
  {
   "cell_type": "code",
   "execution_count": 50,
   "id": "corresponding-edmonton",
   "metadata": {},
   "outputs": [],
   "source": [
    "train_labels1=train_dataset1.map(lambda d : d[\"ID\"])\n",
    "train_feature1=train_dataset1.map(lambda d : d[\"E\"])\n",
    "train_target1=train_dataset1.map(lambda d : d[\"isSpike\"])\n",
    "\n",
    "test_labels1=test_dataset1.map(lambda d : d[\"ID\"])\n",
    "test_feature1=test_dataset1.map(lambda d : d[\"E\"])\n",
    "test_target1=test_dataset1.map(lambda d : d[\"isSpike\"])"
   ]
  },
  {
   "cell_type": "code",
   "execution_count": 9,
   "id": "spatial-bubble",
   "metadata": {},
   "outputs": [
    {
     "name": "stdout",
     "output_type": "stream",
     "text": [
      "Model: \"spike_predictor\"\n",
      "_________________________________________________________________\n",
      "Layer (type)                 Output Shape              Param #   \n",
      "=================================================================\n",
      "input_1 (InputLayer)         [(None, 64)]              0         \n",
      "_________________________________________________________________\n",
      "dense (Dense)                (None, 64)                4160      \n",
      "_________________________________________________________________\n",
      "dropout (Dropout)            (None, 64)                0         \n",
      "_________________________________________________________________\n",
      "dense_1 (Dense)              (None, 64)                4160      \n",
      "_________________________________________________________________\n",
      "dropout_1 (Dropout)          (None, 64)                0         \n",
      "_________________________________________________________________\n",
      "dense_2 (Dense)              (None, 1)                 65        \n",
      "=================================================================\n",
      "Total params: 8,385\n",
      "Trainable params: 8,385\n",
      "Non-trainable params: 0\n",
      "_________________________________________________________________\n"
     ]
    }
   ],
   "source": [
    "inputs=keras.Input(shape=(64,))\n",
    "x=layers.Dense(64, activation=\"relu\")(inputs)\n",
    "x=layers.Dropout(0.2)(x)\n",
    "x=layers.Dense(64, activation=\"relu\")(x)\n",
    "x=layers.Dropout(0.2)(x)\n",
    "outputs=layers.Dense(1,activation=\"sigmoid\")(x)\n",
    "model = keras.Model(inputs=inputs, outputs=outputs, name=\"spike_predictor\")\n",
    "model.summary()"
   ]
  },
  {
   "cell_type": "code",
   "execution_count": 10,
   "id": "stuffed-dover",
   "metadata": {
    "scrolled": true
   },
   "outputs": [
    {
     "name": "stdout",
     "output_type": "stream",
     "text": [
      "Epoch 1/3\n",
      "11855/11855 [==============================] - 38s 3ms/step - loss: 0.3900 - accuracy: 0.8707\n",
      "Epoch 2/3\n",
      "11855/11855 [==============================] - 30s 2ms/step - loss: 0.3838 - accuracy: 0.8717\n",
      "Epoch 3/3\n",
      "11855/11855 [==============================] - 31s 2ms/step - loss: 0.3844 - accuracy: 0.8712\n"
     ]
    }
   ],
   "source": [
    "model.compile(\n",
    "    loss=keras.losses.BinaryCrossentropy(from_logits=True),\n",
    "    optimizer=keras.optimizers.Adam(),\n",
    "    metrics=[\"accuracy\"],\n",
    ")\n",
    "\n",
    "history = model.fit(tf.data.Dataset.zip((train_feature1,train_target1)).batch(100),epochs=3)\n"
   ]
  },
  {
   "cell_type": "code",
   "execution_count": 11,
   "id": "ideal-entity",
   "metadata": {},
   "outputs": [
    {
     "name": "stdout",
     "output_type": "stream",
     "text": [
      "2964/2964 [==============================] - 18s 2ms/step - loss: 0.3837 - accuracy: 0.8714\n",
      "[0.38368842005729675, 0.8714212775230408]\n"
     ]
    }
   ],
   "source": [
    "test_score=model.evaluate(tf.data.Dataset.zip((test_feature1,test_target1)).batch(100))\n",
    "print(test_score)"
   ]
  },
  {
   "cell_type": "code",
   "execution_count": 12,
   "id": "clean-counter",
   "metadata": {},
   "outputs": [],
   "source": [
    "mydf=pd.DataFrame(mydict1)"
   ]
  },
  {
   "cell_type": "code",
   "execution_count": 14,
   "id": "prescribed-strike",
   "metadata": {},
   "outputs": [],
   "source": [
    "mypredictions={}\n",
    "for _id,sub in mydf.groupby(\"ID\"):\n",
    "    mypredictions.update({_id:[]})\n",
    "    if len(mypredictions.keys())==2:break\n",
    "    for arr in sub.E:\n",
    "        mypredictions[_id].append( model.predict(tf.expand_dims(arr, axis=0)).flatten() )\n"
   ]
  },
  {
   "cell_type": "code",
   "execution_count": 26,
   "id": "equipped-tobago",
   "metadata": {
    "scrolled": false
   },
   "outputs": [
    {
     "data": {
      "text/plain": [
       "Text(0.5, 1.0, 'LR877726.1')"
      ]
     },
     "execution_count": 26,
     "metadata": {},
     "output_type": "execute_result"
    },
    {
     "data": {
      "image/png": "[encoded data removed]",
      "text/plain": [
       "<Figure size 432x288 with 1 Axes>"
      ]
     },
     "metadata": {
      "needs_background": "light"
     },
     "output_type": "display_data"
    }
   ],
   "source": [
    "#predictions=np.load(os.path.join(os.getcwd(),\"data\",\"predictions.npy\"))\n",
    "average_start=np.mean([int(rec.features[0].location.start) for rec in myrecords])\n",
    "average_end=np.mean([int(rec.features[0].location.end) for rec in myrecords])\n",
    "plt.plot(np.arange(len(np.array(mypredictions[\"LR877726.1\"]).flatten())),np.array(mypredictions[\"LR877726.1\"]).flatten())\n",
    "plt.axvline(average_start,color=\"red\")\n",
    "plt.axvline(average_end,color=\"red\")\n",
    "plt.title(\"LR877726.1\")"
   ]
  },
  {
   "cell_type": "markdown",
   "id": "returning-spring",
   "metadata": {},
   "source": [
    "Plot for predictions for LR877726.1. Windows were fed into the model and the predictions were rearranged in the correct order and plotted. As we can see from the calculations below the accuracy of the model is simply a reflection of the percentage of zero labels. ==> The model is useless."
   ]
  },
  {
   "cell_type": "code",
   "execution_count": 36,
   "id": "distinguished-therapy",
   "metadata": {},
   "outputs": [
    {
     "name": "stdout",
     "output_type": "stream",
     "text": [
      "Percentage of zero labels in LR877726.1 : 0.8710047588511256\n",
      "Percantage of one labels in LR877726.1 : 0.12899524114887442\n"
     ]
    }
   ],
   "source": [
    "unique, counts = np.unique(np.array(mydf.loc[mydf.ID==\"LR877726.1\",:].isSpike), return_counts=True)\n",
    "length=len(np.array(mydf.loc[mydf.ID==\"LR877726.1\",:].isSpike))\n",
    "\n",
    "print(f\"Percentage of zero labels in LR877726.1 : {counts[0]/length}\")\n",
    "print(f\"Percantage of one labels in LR877726.1 : {counts[1]/length}\")"
   ]
  },
  {
   "cell_type": "markdown",
   "id": "thorough-dallas",
   "metadata": {},
   "source": [
    "# Set up Model 2"
   ]
  },
  {
   "cell_type": "code",
   "execution_count": 58,
   "id": "higher-breed",
   "metadata": {},
   "outputs": [],
   "source": [
    "train_labels2=train_dataset2.map(lambda d : d[\"ID\"])\n",
    "train_feature2=train_dataset2.map(lambda d : d[\"E\"])\n",
    "train_target2=train_dataset2.map(lambda d : d[\"isSpike\"])\n",
    "\n",
    "test_labels2=test_dataset2.map(lambda d : d[\"ID\"])\n",
    "test_feature2=test_dataset2.map(lambda d : d[\"E\"])\n",
    "test_target2=test_dataset2.map(lambda d : d[\"isSpike\"])"
   ]
  },
  {
   "cell_type": "code",
   "execution_count": 52,
   "id": "protective-communist",
   "metadata": {},
   "outputs": [
    {
     "name": "stdout",
     "output_type": "stream",
     "text": [
      "Model: \"spike_predictor\"\n",
      "_________________________________________________________________\n",
      "Layer (type)                 Output Shape              Param #   \n",
      "=================================================================\n",
      "input_3 (InputLayer)         [(None, 29753, 64)]       0         \n",
      "_________________________________________________________________\n",
      "flatten_1 (Flatten)          (None, 1904192)           0         \n",
      "_________________________________________________________________\n",
      "dense_5 (Dense)              (None, 64)                121868352 \n",
      "_________________________________________________________________\n",
      "dropout_3 (Dropout)          (None, 64)                0         \n",
      "_________________________________________________________________\n",
      "dense_6 (Dense)              (None, 29753)             1933945   \n",
      "=================================================================\n",
      "Total params: 123,802,297\n",
      "Trainable params: 123,802,297\n",
      "Non-trainable params: 0\n",
      "_________________________________________________________________\n"
     ]
    }
   ],
   "source": [
    "inputs=keras.Input(shape=(int(max_len/64),64))\n",
    "x=layers.Flatten()(inputs)\n",
    "x=layers.Dense(64, activation=\"relu\")(x)\n",
    "x=layers.Dropout(0.2)(x)\n",
    "outputs=layers.Dense(max_window,activation=\"sigmoid\")(x)\n",
    "model = keras.Model(inputs=inputs, outputs=outputs, name=\"spike_predictor\")\n",
    "model.summary()\n"
   ]
  },
  {
   "cell_type": "code",
   "execution_count": 60,
   "id": "silver-missile",
   "metadata": {},
   "outputs": [
    {
     "name": "stdout",
     "output_type": "stream",
     "text": [
      "Epoch 1/3\n",
      "4/4 [==============================] - 8s 903ms/step - loss: 3.0187 - accuracy: 0.0000e+00\n",
      "Epoch 2/3\n",
      "4/4 [==============================] - 4s 655ms/step - loss: 0.6913 - accuracy: 0.0000e+00\n",
      "Epoch 3/3\n",
      "4/4 [==============================] - 3s 615ms/step - loss: 0.6896 - accuracy: 0.0000e+00\n"
     ]
    }
   ],
   "source": [
    "model.compile(\n",
    "    loss=keras.losses.BinaryCrossentropy(from_logits=True),\n",
    "    optimizer=keras.optimizers.Adam(),\n",
    "    metrics=[\"accuracy\"],\n",
    ")\n",
    "\n",
    "history = model.fit(tf.data.Dataset.zip((train_feature2,train_target2)).batch(10),epochs=3)"
   ]
  },
  {
   "cell_type": "code",
   "execution_count": 61,
   "id": "round-india",
   "metadata": {},
   "outputs": [
    {
     "name": "stdout",
     "output_type": "stream",
     "text": [
      "2/2 [==============================] - 3s 127ms/step - loss: 0.6882 - accuracy: 0.0000e+00\n",
      "[0.6881964802742004, 0.0]\n"
     ]
    }
   ],
   "source": [
    "test_score=model.evaluate(tf.data.Dataset.zip((test_feature2,test_target2)).batch(5))\n",
    "print(test_score)"
   ]
  },
  {
   "cell_type": "code",
   "execution_count": 62,
   "id": "enormous-activation",
   "metadata": {},
   "outputs": [],
   "source": [
    "predictions=model.predict(test_feature2.batch(1))"
   ]
  },
  {
   "cell_type": "code",
   "execution_count": 63,
   "id": "political-lithuania",
   "metadata": {
    "scrolled": true
   },
   "outputs": [
    {
     "data": {
      "image/png": "[encoded data removed]",
      "text/plain": [
       "<Figure size 1440x1080 with 10 Axes>"
      ]
     },
     "metadata": {
      "needs_background": "light"
     },
     "output_type": "display_data"
    }
   ],
   "source": [
    "average_start=np.mean([int(rec.features[0].location.start) for rec in myrecords])\n",
    "average_end=np.mean([int(rec.features[0].location.end) for rec in myrecords])\n",
    "fig, axs = plt.subplots(10,sharex=True,figsize=(20,15))\n",
    "for i in range(10):\n",
    "    axs[i].plot(np.arange(len(predictions[i])),predictions[i])\n",
    "    axs[i].axvline(average_start,color=\"red\")\n",
    "    axs[i].axvline(average_end,color=\"red\")"
   ]
  },
  {
   "cell_type": "markdown",
   "id": "parliamentary-stadium",
   "metadata": {},
   "source": [
    "Looks good but perhaps the model is predicting solely on position. Let's try and feed it an artificial input with no meaningfull numbers."
   ]
  },
  {
   "cell_type": "code",
   "execution_count": 71,
   "id": "alone-attitude",
   "metadata": {},
   "outputs": [],
   "source": [
    "only_zero=np.zeros(29753*64).reshape((29753, 64))\n",
    "only_ones=np.ones(29753*64).reshape((29753, 64))"
   ]
  },
  {
   "cell_type": "code",
   "execution_count": 78,
   "id": "lucky-blogger",
   "metadata": {},
   "outputs": [
    {
     "data": {
      "text/plain": [
       "<matplotlib.lines.Line2D at 0x1727993a0>"
      ]
     },
     "execution_count": 78,
     "metadata": {},
     "output_type": "execute_result"
    },
    {
     "data": {
      "image/png": "[encoded data removed]",
      "text/plain": [
       "<Figure size 432x288 with 1 Axes>"
      ]
     },
     "metadata": {
      "needs_background": "light"
     },
     "output_type": "display_data"
    }
   ],
   "source": [
    "fake_pred_1=model.predict(tf.expand_dims(tf.constant(only_zero), axis=0)).flatten()\n",
    "plt.plot(np.arange(len(fake_pred_1)),fake_pred_1)\n",
    "plt.axvline(average_start,color=\"red\")\n",
    "plt.axvline(average_end,color=\"red\")"
   ]
  },
  {
   "cell_type": "code",
   "execution_count": 79,
   "id": "threaded-estimate",
   "metadata": {
    "scrolled": true
   },
   "outputs": [
    {
     "data": {
      "text/plain": [
       "<matplotlib.lines.Line2D at 0x1727f5550>"
      ]
     },
     "execution_count": 79,
     "metadata": {},
     "output_type": "execute_result"
    },
    {
     "data": {
      "image/png": "[encoded data removed]",
      "text/plain": [
       "<Figure size 432x288 with 1 Axes>"
      ]
     },
     "metadata": {
      "needs_background": "light"
     },
     "output_type": "display_data"
    }
   ],
   "source": [
    "fake_pred_2=model.predict(tf.expand_dims(tf.constant(only_ones), axis=0)).flatten()\n",
    "plt.plot(np.arange(len(fake_pred_2)),fake_pred_2)\n",
    "plt.axvline(average_start,color=\"red\")\n",
    "plt.axvline(average_end,color=\"red\")"
   ]
  },
  {
   "cell_type": "markdown",
   "id": "invisible-remainder",
   "metadata": {},
   "source": [
    "Apart from some noise it seems the model is in fact predicting based on position alone and not based on the entropy values."
   ]
  },
  {
   "cell_type": "markdown",
   "id": "finnish-freeware",
   "metadata": {},
   "source": [
    "# Set up Model 3  \n",
    "Maybe a combination of Model 1 and Model 2 will lead to better results."
   ]
  }
 ],
 "metadata": {
  "kernelspec": {
   "display_name": "dnasr_demo",
   "language": "python",
   "name": "dnasr_demo"
  },
  "language_info": {
   "codemirror_mode": {
    "name": "ipython",
    "version": 3
   },
   "file_extension": ".py",
   "mimetype": "text/x-python",
   "name": "python",
   "nbconvert_exporter": "python",
   "pygments_lexer": "ipython3",
   "version": "3.8.6"
  }
 },
 "nbformat": 4,
 "nbformat_minor": 5
}
